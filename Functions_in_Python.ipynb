{
  "nbformat": 4,
  "nbformat_minor": 0,
  "metadata": {
    "colab": {
      "provenance": [],
      "authorship_tag": "ABX9TyPx4gDZ5D3r2NIVi7FFfx7P",
      "include_colab_link": true
    },
    "kernelspec": {
      "name": "python3",
      "display_name": "Python 3"
    },
    "language_info": {
      "name": "python"
    }
  },
  "cells": [
    {
      "cell_type": "markdown",
      "metadata": {
        "id": "view-in-github",
        "colab_type": "text"
      },
      "source": [
        "<a href=\"https://colab.research.google.com/github/Dhawaldwivedi/Python-for-Data-analytics/blob/main/Functions_in_Python.ipynb\" target=\"_parent\"><img src=\"https://colab.research.google.com/assets/colab-badge.svg\" alt=\"Open In Colab\"/></a>"
      ]
    },
    {
      "cell_type": "code",
      "execution_count": null,
      "metadata": {
        "colab": {
          "base_uri": "https://localhost:8080/"
        },
        "id": "WgTsE34dQ1mI",
        "outputId": "855639ee-97ee-4ec0-88d0-a742c281d1d1"
      },
      "outputs": [
        {
          "output_type": "stream",
          "name": "stdout",
          "text": [
            "hello\n"
          ]
        }
      ],
      "source": [
        "print('hello')"
      ]
    },
    {
      "cell_type": "code",
      "source": [
        "for i in range(1,11):\n",
        "  print('hello')"
      ],
      "metadata": {
        "colab": {
          "base_uri": "https://localhost:8080/"
        },
        "id": "K4t-lbq3Q6l6",
        "outputId": "ba28da34-9af1-42ce-a312-b2d7bf89a418"
      },
      "execution_count": null,
      "outputs": [
        {
          "output_type": "stream",
          "name": "stdout",
          "text": [
            "hello\n",
            "hello\n",
            "hello\n",
            "hello\n",
            "hello\n",
            "hello\n",
            "hello\n",
            "hello\n",
            "hello\n",
            "hello\n"
          ]
        }
      ]
    },
    {
      "cell_type": "code",
      "source": [
        "def greet():\n",
        "  print('hello')\n",
        "\n",
        "greet()\n",
        "greet()\n",
        "for i in range(1,4):\n",
        "  greet()\n",
        "\n",
        "def name(n= '----'):\n",
        "  print('name is :',n)\n",
        "\n",
        "name('python')\n",
        "\n",
        "def add(a,b):\n",
        "  return a+b,a-b,a*b\n",
        "\n",
        "add(5,20)\n",
        "\n",
        "def double_elements(lst):\n",
        "    return [x * 2 for x in lst]\n",
        "\n",
        "print(double_elements([1, 2, 3]))  # Output: [2, 4, 6]\n"
      ],
      "metadata": {
        "colab": {
          "base_uri": "https://localhost:8080/"
        },
        "id": "jsTP-fCORGJP",
        "outputId": "01960f8c-2f84-4598-f07b-cf0bf0cc3a4b"
      },
      "execution_count": null,
      "outputs": [
        {
          "output_type": "stream",
          "name": "stdout",
          "text": [
            "hello\n",
            "hello\n",
            "hello\n",
            "hello\n",
            "hello\n",
            "name is : python\n",
            "[2, 4, 6]\n"
          ]
        }
      ]
    },
    {
      "cell_type": "code",
      "source": [
        "# what is a function and why it is used\n",
        "# types of function\n",
        "# global value and local value in function\n",
        "# overwriting function again\n",
        "# passing the parameter\n",
        "# return statement\n",
        "\n",
        "def sq_lst(lst):\n",
        "  return [x*x for x in lst]\n",
        "\n",
        "print(sq_lst([1,2,3,4]))\n",
        "\n"
      ],
      "metadata": {
        "id": "uOuCewmtSTTA",
        "colab": {
          "base_uri": "https://localhost:8080/"
        },
        "outputId": "3f08aca7-72dd-4810-8f7e-df3c212b7faa"
      },
      "execution_count": null,
      "outputs": [
        {
          "output_type": "stream",
          "name": "stdout",
          "text": [
            "[1, 4, 9, 16]\n"
          ]
        }
      ]
    },
    {
      "cell_type": "code",
      "source": [
        "def maxnum():\n",
        "  a = int(input(\"enter value of a \"))\n",
        "  b = int(input(\"enter value of b \"))\n",
        "  return max(a,b)\n",
        "\n",
        "print(maxnum())"
      ],
      "metadata": {
        "colab": {
          "base_uri": "https://localhost:8080/"
        },
        "id": "u90pAn8FN67u",
        "outputId": "caa8d655-896e-4ee4-81ad-a6866d535deb"
      },
      "execution_count": null,
      "outputs": [
        {
          "output_type": "stream",
          "name": "stdout",
          "text": [
            "enter value of a 4\n",
            "enter value of b8\n",
            "8\n"
          ]
        }
      ]
    },
    {
      "cell_type": "code",
      "source": [
        "def checkeven():\n",
        "  num = int(input(\"enter a number\"))\n",
        "  if(num%2==0):\n",
        "    return True\n",
        "  else:\n",
        "    return False\n",
        "\n",
        "print(checkeven())\n"
      ],
      "metadata": {
        "colab": {
          "base_uri": "https://localhost:8080/"
        },
        "id": "CMGf-Dr5QSrb",
        "outputId": "e7672e0c-6636-4305-ba19-1ccb42385dc1"
      },
      "execution_count": null,
      "outputs": [
        {
          "output_type": "stream",
          "name": "stdout",
          "text": [
            "enter a number8\n",
            "True\n"
          ]
        }
      ]
    },
    {
      "cell_type": "code",
      "source": [
        "def multptable():\n",
        "  n = int(input(\"enter a number\"))\n",
        "  for i in range(1,11):\n",
        "    print(f\"{n}*{i}= {n*i}\")\n",
        "\n",
        "multptable()"
      ],
      "metadata": {
        "colab": {
          "base_uri": "https://localhost:8080/"
        },
        "id": "6nvkEdQ0RmYG",
        "outputId": "55e4f9a4-84c3-4337-9973-2419d399d704"
      },
      "execution_count": null,
      "outputs": [
        {
          "output_type": "stream",
          "name": "stdout",
          "text": [
            "enter a number2\n",
            "2*1= 2\n",
            "2*2= 4\n",
            "2*3= 6\n",
            "2*4= 8\n",
            "2*5= 10\n",
            "2*6= 12\n",
            "2*7= 14\n",
            "2*8= 16\n",
            "2*9= 18\n",
            "2*10= 20\n"
          ]
        }
      ]
    },
    {
      "cell_type": "code",
      "source": [
        "def is_prime():\n",
        "  n= int(input(\"enter a number \"))\n",
        "  if(n<2):\n",
        "    return False\n",
        "\n",
        "  for i in range(2,n):\n",
        "    if(n%i==0):\n",
        "      return False\n",
        "    else :\n",
        "      return True\n",
        "is_prime()\n",
        "\n"
      ],
      "metadata": {
        "colab": {
          "base_uri": "https://localhost:8080/"
        },
        "id": "fGySUThKSjdF",
        "outputId": "b37e98d6-1b42-4bb2-d8fc-d95a7d6b2b2f"
      },
      "execution_count": null,
      "outputs": [
        {
          "name": "stdout",
          "output_type": "stream",
          "text": [
            "enter a number6\n"
          ]
        },
        {
          "output_type": "execute_result",
          "data": {
            "text/plain": [
              "False"
            ]
          },
          "metadata": {},
          "execution_count": 15
        }
      ]
    },
    {
      "cell_type": "code",
      "source": [],
      "metadata": {
        "id": "e-xJo-seWppZ"
      },
      "execution_count": null,
      "outputs": []
    }
  ]
}